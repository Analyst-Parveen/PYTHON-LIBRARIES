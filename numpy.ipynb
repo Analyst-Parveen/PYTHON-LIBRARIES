{
 "cells": [
  {
   "cell_type": "code",
   "execution_count": 32,
   "id": "c1f4f374-fa22-4a26-8ce6-4bc58abbeee0",
   "metadata": {},
   "outputs": [
    {
     "name": "stdout",
     "output_type": "stream",
     "text": [
      "[10 20 30 40 50 60]\n",
      "<class 'numpy.ndarray'>\n",
      "[[1 2 3]\n",
      " [5 6 7]\n",
      " [8 9 6]]\n",
      "[10 20 30]\n",
      "[10 20 30 40 50 60]\n",
      "[10 20 30]\n",
      "[60 50 40 30 20 10]\n",
      "[[ 5 10]\n",
      " [20 25]]\n",
      "[10]\n",
      "10\n",
      "(3, 3)\n",
      "9\n",
      "2\n",
      "int64\n"
     ]
    }
   ],
   "source": [
    "import numpy as np\n",
    "a=np.array([10,20,30,40,50,60])\n",
    "print(a)\n",
    "print(type(a))\n",
    "\n",
    "# matrix in numpy\n",
    "b=np.array([[1,2,3],[5,6,7],[8,9,6]])\n",
    "print(b)\n",
    "\n",
    "#  slicing in numpy\n",
    "print(a[0:3])\n",
    "print(a[0:])\n",
    "print(a[:3])\n",
    "print(a[::-1])\n",
    "\n",
    "#  slicing in matrix-----------\n",
    "c=np.array([[5,10,15],[20,25,30]])\n",
    "print(c[0:2,0:2])\n",
    "print(c[0,1:2])\n",
    "print(c[0,1])\n",
    "\n",
    "# attributes  in numpy--------------\n",
    "print(np.shape(b))       # gives order of matrix\n",
    "print(np.size(b))          # gives total number of elemnet\n",
    "print(np.ndim(b))                # gives dimesninal of matrix\n",
    "print(b.dtype)        # gives data type\n",
    "\n"
   ]
  },
  {
   "cell_type": "code",
   "execution_count": 1,
   "id": "222edde1-c669-4335-848d-89a4741930af",
   "metadata": {},
   "outputs": [
    {
     "name": "stdout",
     "output_type": "stream",
     "text": [
      "[[10, 20, 30], [40, 50, 60]]\n",
      "<class 'list'>\n",
      "<class 'numpy.ndarray'>\n",
      "[[10 20 30]\n",
      " [40 50 60]]\n",
      "(2, 3)\n",
      "6\n",
      "2\n",
      "2\n",
      "<class 'numpy.ndarray'>\n",
      "int64\n",
      "[[10. 20. 30.]\n",
      " [40. 50. 60.]]\n"
     ]
    }
   ],
   "source": [
    "import numpy as np\n",
    "a=[[10,20,30],[40,50,60]]\n",
    "print(a)\n",
    "print(type(a))\n",
    "a=np.array(a)\n",
    "print(type(a))\n",
    "print(a)\n",
    "print(a.shape)\n",
    "print(a.size)\n",
    "\n",
    "\n",
    "print(a.ndim)\n",
    "print(len(a))\n",
    "print(type(a))\n",
    "print(a.dtype)\n",
    "print(a.astype(float))\n",
    "\n"
   ]
  },
  {
   "cell_type": "code",
   "execution_count": 9,
   "id": "6146bfc2-7c42-44d9-bcfc-9f694c04fe79",
   "metadata": {},
   "outputs": [
    {
     "name": "stdout",
     "output_type": "stream",
     "text": [
      "[[40 40]\n",
      " [40 80]]\n",
      "[[40 40]\n",
      " [40 80]]\n",
      "[[-20   0]\n",
      " [ 20   0]]\n",
      "[[-20   0]\n",
      " [ 20   0]]\n",
      "[[ 300  400]\n",
      " [ 300 1600]]\n",
      "[[ 300  400]\n",
      " [ 300 1600]]\n",
      "[[0.33333333 1.        ]\n",
      " [3.         1.        ]]\n",
      "[[0.33333333 1.        ]\n",
      " [3.         1.        ]]\n",
      "[[3.16227766 4.47213595]\n",
      " [5.47722558 6.32455532]]\n",
      "[[ 5076944270305263616 -2101438300051996672]\n",
      " [     590490000000000                    0]]\n"
     ]
    }
   ],
   "source": [
    "import numpy as np\n",
    "a=np.array([[10,20],[30,40]])\n",
    "b=np.array([[30,20],[10,40]])\n",
    "\n",
    "\n",
    "\n",
    "\n",
    "\n",
    "print(a+b)\n",
    "print(np.add(a,b))\n",
    "print(a-b)\n",
    "print(np.subtract(a,b))\n",
    "print(a*b)\n",
    "print(np.multiply(a,b))\n",
    "print(a/b)\n",
    "print(np.divide(a,b))\n",
    "print(np.sqrt(a))\n",
    "print(np.power(a,b))\n"
   ]
  },
  {
   "cell_type": "code",
   "execution_count": 11,
   "id": "fc927e09-2791-4e36-8193-5305ca95a3d0",
   "metadata": {},
   "outputs": [
    {
     "name": "stdout",
     "output_type": "stream",
     "text": [
      "[[ 1.         -0.91350028]\n",
      " [-0.91350028  1.        ]]\n"
     ]
    }
   ],
   "source": [
    "import numpy as np\n",
    "tbc=[10,20,30,40]\n",
    "death=[100,50,40,30]\n",
    "print(np.corrcoef(tbc,death))"
   ]
  }
 ],
 "metadata": {
  "kernelspec": {
   "display_name": "Python 3 (ipykernel)",
   "language": "python",
   "name": "python3"
  },
  "language_info": {
   "codemirror_mode": {
    "name": "ipython",
    "version": 3
   },
   "file_extension": ".py",
   "mimetype": "text/x-python",
   "name": "python",
   "nbconvert_exporter": "python",
   "pygments_lexer": "ipython3",
   "version": "3.12.4"
  }
 },
 "nbformat": 4,
 "nbformat_minor": 5
}
